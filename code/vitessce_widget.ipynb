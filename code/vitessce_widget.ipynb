{
 "cells": [
  {
   "cell_type": "markdown",
   "metadata": {},
   "source": [
    "# Configuring Zarr to Vitessce Widget\n",
    "Script that converts a pre-processed AnnData-based Zarr object into a Vitessce widget using Python. \n",
    "\n",
    "Proofchecking that our Zarr file is valid before deploying it to Github Pages. "
   ]
  },
  {
   "cell_type": "code",
   "execution_count": 1,
   "metadata": {},
   "outputs": [],
   "source": [
    "import os\n",
    "from os.path import join, isfile, isdir\n",
    "from urllib.request import urlretrieve\n",
    "from anndata import read_h5ad\n",
    "import scanpy as sc\n",
    "\n",
    "from vitessce import (\n",
    "    VitessceConfig,\n",
    "    Component as cm,\n",
    "    CoordinationType as ct,\n",
    "    AnnDataWrapper,\n",
    ")\n",
    "from vitessce.data_utils import (\n",
    "    optimize_adata,\n",
    "    VAR_CHUNK_SIZE,\n",
    ")"
   ]
  },
  {
   "cell_type": "code",
   "execution_count": 2,
   "metadata": {},
   "outputs": [
    {
     "name": "stdout",
     "output_type": "stream",
     "text": [
      "New working directory: /Users/iriskwon/Desktop/mouse-cereb-dev/mouse-cereb-dev\n"
     ]
    }
   ],
   "source": [
    "# change the directory to general to access data \n",
    "path = \"/Users/iriskwon/Desktop/mouse-cereb-dev/mouse-cereb-dev\"\n",
    "os.chdir(path)\n",
    "\n",
    "# verify the change\n",
    "print(\"New working directory:\", os.getcwd())"
   ]
  },
  {
   "cell_type": "code",
   "execution_count": 3,
   "metadata": {},
   "outputs": [],
   "source": [
    "zarr_filepath = join(\"public/data\", \"E11_Scaled.zarr\")"
   ]
  },
  {
   "cell_type": "code",
   "execution_count": 4,
   "metadata": {},
   "outputs": [],
   "source": [
    "filepath_zarr_e11_1 = join(\"public/data\", \"E11_1.zarr\")"
   ]
  },
  {
   "cell_type": "code",
   "execution_count": 5,
   "metadata": {},
   "outputs": [
    {
     "ename": "NameError",
     "evalue": "name 'vc' is not defined",
     "output_type": "error",
     "traceback": [
      "\u001b[0;31m---------------------------------------------------------------------------\u001b[0m",
      "\u001b[0;31mNameError\u001b[0m                                 Traceback (most recent call last)",
      "Cell \u001b[0;32mIn[5], line 1\u001b[0m\n\u001b[0;32m----> 1\u001b[0m \u001b[38;5;28;01mdel\u001b[39;00m(vc)\n",
      "\u001b[0;31mNameError\u001b[0m: name 'vc' is not defined"
     ]
    }
   ],
   "source": [
    "del(vc)"
   ]
  },
  {
   "cell_type": "markdown",
   "metadata": {},
   "source": [
    "# Single Slice: "
   ]
  },
  {
   "cell_type": "code",
   "execution_count": 6,
   "metadata": {},
   "outputs": [
    {
     "data": {
      "application/vnd.jupyter.widget-view+json": {
       "model_id": "5afc7eadae6d4764b2904ccce2c8f46a",
       "version_major": 2,
       "version_minor": 1
      },
      "text/plain": [
       "VitessceWidget(config={'version': '1.0.15', 'name': 'E11 STARmap slice 1', 'description': '', 'datasets': [{'u…"
      ]
     },
     "execution_count": 6,
     "metadata": {},
     "output_type": "execute_result"
    }
   ],
   "source": [
    "from vitessce import VitessceConfig, ViewType as vt, CoordinationType as ct, AnnDataWrapper\n",
    "\n",
    "# Set up the config\n",
    "vc = VitessceConfig(schema_version=\"1.0.15\", name=\"E11 STARmap slice 1\")\n",
    "\n",
    "# Define Zarr path\n",
    "zarr_path = \"public/data/E11_1.zarr\"\n",
    "\n",
    "# Create wrapper for spatial and expression data\n",
    "w = AnnDataWrapper(\n",
    "    adata_path=zarr_path,\n",
    "    obs_embedding_paths=[\"obsm/X_umap\"],\n",
    "    obs_embedding_names=[\"UMAP\"],\n",
    "    obs_feature_matrix_path=\"X\",\n",
    "    obs_locations_path=\"obsm/spatial\",\n",
    "    obs_set_paths=[\"obs/cell_types\", \"obs/finer_cell_types\", \"obs/leiden\"],\n",
    "    obs_set_names=[\"Cell Type\", \"Finer Cell Types\", \"Leiden Clusters\"]\n",
    ")\n",
    "\n",
    "# Add dataset and wrapper\n",
    "dataset = vc.add_dataset(name=\"E11_Slice1\").add_object(w)\n",
    "\n",
    "# Coordination for embedding\n",
    "embedding_scope = vc.add_coordination_by_dict({\n",
    "    ct.EMBEDDING_TYPE: \"UMAP\"\n",
    "})\n",
    "\n",
    "# === Add views ===\n",
    "desc = vc.add_view(vt.DESCRIPTION, dataset=dataset).set_props(description=\"My E11 STARmap data.\")\n",
    "spatial = vc.add_view(vt.SPATIAL, dataset=dataset)\n",
    "scatter = vc.add_view(vt.SCATTERPLOT, dataset=dataset).use_coordination_by_dict(embedding_scope)\n",
    "genes = vc.add_view(vt.FEATURE_LIST, dataset=dataset)\n",
    "cell_sets = vc.add_view(vt.OBS_SETS, dataset=dataset)\n",
    "heatmap = vc.add_view(vt.HEATMAP, dataset=dataset)\n",
    "\n",
    "# Add spatial layer styling and spatial coordination AFTER spatial is defined\n",
    "spatial_segmentation_layer_value = {\n",
    "    \"opacity\": 1,\n",
    "    \"radius\": 2,\n",
    "    \"visible\": True,\n",
    "    \"stroked\": False\n",
    "}\n",
    "\n",
    "vc.link_views(\n",
    "    [spatial],\n",
    "    [ct.SPATIAL_ZOOM, ct.SPATIAL_TARGET_X, ct.SPATIAL_TARGET_Y, ct.SPATIAL_SEGMENTATION_LAYER],\n",
    "    [1.5, 500, 130, spatial_segmentation_layer_value]\n",
    ")\n",
    "\n",
    "# Layout\n",
    "vc.layout((desc | cell_sets | spatial) / (genes | scatter | heatmap))\n",
    "vw = vc.widget()\n",
    "vw\n"
   ]
  },
  {
   "cell_type": "markdown",
   "metadata": {},
   "source": [
    "# Multiple Slices:"
   ]
  },
  {
   "cell_type": "code",
   "execution_count": 15,
   "metadata": {},
   "outputs": [
    {
     "data": {
      "application/vnd.jupyter.widget-view+json": {
       "model_id": "22db9278a18d42d483e647cd51a72e99",
       "version_major": 2,
       "version_minor": 1
      },
      "text/plain": [
       "VitessceWidget(config={'version': '1.0.15', 'name': 'E11 STARmap', 'description': '', 'datasets': [{'uid': 'A'…"
      ]
     },
     "execution_count": 15,
     "metadata": {},
     "output_type": "execute_result"
    }
   ],
   "source": [
    "from vitessce import VitessceConfig, ViewType as vt, CoordinationType as ct, AnnDataWrapper\n",
    "\n",
    "# Set up the config\n",
    "vc = VitessceConfig(schema_version=\"1.0.15\", name=\"E11 STARmap\")\n",
    "\n",
    "# Define Zarr path\n",
    "zarr_path = \"public/data/E11_Normalized.zarr\"\n",
    "\n",
    "# Create wrapper for spatial and expression data\n",
    "w = AnnDataWrapper(\n",
    "    adata_path=zarr_path,\n",
    "    obs_embedding_paths=[\"obsm/X_umap\"],\n",
    "    obs_embedding_names=[\"UMAP\"],\n",
    "    obs_feature_matrix_path=\"X\",\n",
    "    obs_locations_path=\"obsm/spatial\",\n",
    "    obs_set_paths=[\"obs/cell_types\", \"obs/library_id\", \"obs/leiden\"],\n",
    "    obs_set_names=[\"Cell Type\", \"Coronal Slice A-P\", \"Leiden Clusters\"]\n",
    ")\n",
    "\n",
    "# Add dataset and wrapper\n",
    "dataset = vc.add_dataset(name=\"E11\").add_object(w)\n",
    "\n",
    "# Coordination for embedding\n",
    "embedding_scope = vc.add_coordination_by_dict({\n",
    "    ct.EMBEDDING_TYPE: \"UMAP\"\n",
    "})\n",
    "\n",
    "# === Add views ===\n",
    "desc = vc.add_view(vt.DESCRIPTION, dataset=dataset).set_props(description=\"My E11 STARmap data.\")\n",
    "spatial = vc.add_view(vt.SPATIAL, dataset=dataset)\n",
    "scatter = vc.add_view(vt.SCATTERPLOT, dataset=dataset).use_coordination_by_dict(embedding_scope)\n",
    "genes = vc.add_view(vt.FEATURE_LIST, dataset=dataset)\n",
    "cell_sets = vc.add_view(vt.OBS_SETS, dataset=dataset)\n",
    "heatmap = vc.add_view(vt.HEATMAP, dataset=dataset)\n",
    "\n",
    "# Add spatial layer styling and spatial coordination AFTER spatial is defined\n",
    "spatial_segmentation_layer_value = {\n",
    "    \"opacity\": 1,\n",
    "    \"radius\": 2,\n",
    "    \"visible\": True,\n",
    "    \"stroked\": False\n",
    "}\n",
    "\n",
    "vc.link_views(\n",
    "    [spatial],\n",
    "    [ct.SPATIAL_ZOOM, ct.SPATIAL_TARGET_X, ct.SPATIAL_TARGET_Y, ct.SPATIAL_SEGMENTATION_LAYER],\n",
    "    [1.5, 259, 500, spatial_segmentation_layer_value]\n",
    ")\n",
    "\n",
    "# Layout\n",
    "vc.layout((desc / cell_sets / genes) | spatial | (scatter | heatmap))\n",
    "vw = vc.widget()\n",
    "vw\n"
   ]
  },
  {
   "cell_type": "markdown",
   "metadata": {},
   "source": [
    "# Save Vitessce Config to JSON: "
   ]
  },
  {
   "cell_type": "code",
   "execution_count": 12,
   "metadata": {},
   "outputs": [],
   "source": [
    "# Export your config to a Python dictionary\n",
    "config_dict = vc.to_dict(base_url=\"public/data/\")\n",
    "\n",
    "# Save it as a JSON file\n",
    "import json\n",
    "with open(\"config.json\", \"w\") as f:\n",
    "    json.dump(config_dict, f, indent=2)\n",
    "\n",
    "# Write it to a JS file for your React app\n",
    "with open(\"src/my-view-config.js\", \"w\") as f:\n",
    "    f.write(\"export const myViewConfig = \")\n",
    "    json.dump(config_dict, f, indent=2)\n",
    "    f.write(\";\")\n"
   ]
  }
 ],
 "metadata": {
  "kernelspec": {
   "display_name": "vitessce-env",
   "language": "python",
   "name": "python3"
  },
  "language_info": {
   "codemirror_mode": {
    "name": "ipython",
    "version": 3
   },
   "file_extension": ".py",
   "mimetype": "text/x-python",
   "name": "python",
   "nbconvert_exporter": "python",
   "pygments_lexer": "ipython3",
   "version": "3.9.18"
  }
 },
 "nbformat": 4,
 "nbformat_minor": 2
}
